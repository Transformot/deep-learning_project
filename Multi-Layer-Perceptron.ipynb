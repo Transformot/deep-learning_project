{
 "cells": [
  {
   "cell_type": "markdown",
   "source": [
    "# Multi-Layer Perceptron"
   ],
   "metadata": {
    "collapsed": false
   },
   "id": "e619933b9e1de83c"
  },
  {
   "cell_type": "markdown",
   "source": [
    "## Import"
   ],
   "metadata": {
    "collapsed": false
   },
   "id": "6142b3b883c6c5cf"
  },
  {
   "cell_type": "code",
   "execution_count": 3,
   "id": "initial_id",
   "metadata": {
    "collapsed": true,
    "ExecuteTime": {
     "end_time": "2024-04-03T09:48:27.924987Z",
     "start_time": "2024-04-03T09:48:27.907987Z"
    }
   },
   "outputs": [],
   "source": [
    "import matplotlib.pyplot as plt\n",
    "import numpy as np\n",
    "import pandas as pd\n",
    "import seaborn as sns\n",
    "import tensorflow as tf"
   ]
  },
  {
   "cell_type": "markdown",
   "source": [
    "## Code"
   ],
   "metadata": {
    "collapsed": false
   },
   "id": "d41f427f6ea3cf99"
  },
  {
   "cell_type": "code",
   "outputs": [],
   "source": [
    "# Récupération des données en spécifiant le séparateur\n",
    "\n",
    "TRAIN_FILE_PATH = \"./data/ECG200_TRAIN.tsv\"\n",
    "TEST_FILE_PATH = \"./data/ECG200_TEST.tsv\"\n",
    "\n",
    "train_df = pd.read_csv(TRAIN_FILE_PATH, delimiter='\\t', header=None).dropna()\n",
    "test_df = pd.read_csv(TEST_FILE_PATH, delimiter='\\t', header=None).dropna()\n",
    "\n",
    "\n",
    "# Séparation en données d'entraînement et données de test\n",
    "\n",
    "x_train, y_train = train_df.loc[:, '1':], train_df.loc[:, :'0']\n",
    "x_test, y_test = test_df.loc[:, '1':], test_df.loc[:, :'0']\n",
    "\n",
    "nb_class = y_train.nunique()"
   ],
   "metadata": {
    "collapsed": false,
    "ExecuteTime": {
     "end_time": "2024-04-03T09:48:27.972989Z",
     "start_time": "2024-04-03T09:48:27.936987Z"
    }
   },
   "id": "bb62b622add25e10",
   "execution_count": 4
  },
  {
   "cell_type": "code",
   "outputs": [],
   "source": [],
   "metadata": {
    "collapsed": false,
    "ExecuteTime": {
     "end_time": "2024-04-03T09:48:27.988010Z",
     "start_time": "2024-04-03T09:48:27.978010Z"
    }
   },
   "id": "8986eeb3881dd873",
   "execution_count": 4
  }
 ],
 "metadata": {
  "kernelspec": {
   "display_name": "Python 3",
   "language": "python",
   "name": "python3"
  },
  "language_info": {
   "codemirror_mode": {
    "name": "ipython",
    "version": 2
   },
   "file_extension": ".py",
   "mimetype": "text/x-python",
   "name": "python",
   "nbconvert_exporter": "python",
   "pygments_lexer": "ipython2",
   "version": "2.7.6"
  }
 },
 "nbformat": 4,
 "nbformat_minor": 5
}
